{
 "cells": [
  {
   "cell_type": "code",
   "execution_count": 5,
   "id": "35f503bc-de53-4922-a930-54d1436e3db6",
   "metadata": {},
   "outputs": [
    {
     "name": "stdout",
     "output_type": "stream",
     "text": [
      "Requirement already satisfied: pandas in /Applications/anaconda3/lib/python3.12/site-packages (2.2.2)\n",
      "Requirement already satisfied: numpy in /Applications/anaconda3/lib/python3.12/site-packages (1.26.4)\n",
      "Requirement already satisfied: matplotlib in /Applications/anaconda3/lib/python3.12/site-packages (3.8.4)\n",
      "Requirement already satisfied: folium in /Applications/anaconda3/lib/python3.12/site-packages (0.19.2)\n",
      "Requirement already satisfied: plotly in /Applications/anaconda3/lib/python3.12/site-packages (5.22.0)\n",
      "Requirement already satisfied: python-dateutil>=2.8.2 in /Applications/anaconda3/lib/python3.12/site-packages (from pandas) (2.9.0.post0)\n",
      "Requirement already satisfied: pytz>=2020.1 in /Applications/anaconda3/lib/python3.12/site-packages (from pandas) (2024.1)\n",
      "Requirement already satisfied: tzdata>=2022.7 in /Applications/anaconda3/lib/python3.12/site-packages (from pandas) (2023.3)\n",
      "Requirement already satisfied: contourpy>=1.0.1 in /Applications/anaconda3/lib/python3.12/site-packages (from matplotlib) (1.2.0)\n",
      "Requirement already satisfied: cycler>=0.10 in /Applications/anaconda3/lib/python3.12/site-packages (from matplotlib) (0.11.0)\n",
      "Requirement already satisfied: fonttools>=4.22.0 in /Applications/anaconda3/lib/python3.12/site-packages (from matplotlib) (4.51.0)\n",
      "Requirement already satisfied: kiwisolver>=1.3.1 in /Applications/anaconda3/lib/python3.12/site-packages (from matplotlib) (1.4.4)\n",
      "Requirement already satisfied: packaging>=20.0 in /Applications/anaconda3/lib/python3.12/site-packages (from matplotlib) (23.2)\n",
      "Requirement already satisfied: pillow>=8 in /Applications/anaconda3/lib/python3.12/site-packages (from matplotlib) (10.3.0)\n",
      "Requirement already satisfied: pyparsing>=2.3.1 in /Applications/anaconda3/lib/python3.12/site-packages (from matplotlib) (3.0.9)\n",
      "Requirement already satisfied: branca>=0.6.0 in /Applications/anaconda3/lib/python3.12/site-packages (from folium) (0.8.1)\n",
      "Requirement already satisfied: jinja2>=2.9 in /Applications/anaconda3/lib/python3.12/site-packages (from folium) (3.1.4)\n",
      "Requirement already satisfied: requests in /Applications/anaconda3/lib/python3.12/site-packages (from folium) (2.32.2)\n",
      "Requirement already satisfied: xyzservices in /Applications/anaconda3/lib/python3.12/site-packages (from folium) (2022.9.0)\n",
      "Requirement already satisfied: tenacity>=6.2.0 in /Applications/anaconda3/lib/python3.12/site-packages (from plotly) (8.2.2)\n",
      "Requirement already satisfied: MarkupSafe>=2.0 in /Applications/anaconda3/lib/python3.12/site-packages (from jinja2>=2.9->folium) (2.1.3)\n",
      "Requirement already satisfied: six>=1.5 in /Applications/anaconda3/lib/python3.12/site-packages (from python-dateutil>=2.8.2->pandas) (1.16.0)\n",
      "Requirement already satisfied: charset-normalizer<4,>=2 in /Applications/anaconda3/lib/python3.12/site-packages (from requests->folium) (2.0.4)\n",
      "Requirement already satisfied: idna<4,>=2.5 in /Applications/anaconda3/lib/python3.12/site-packages (from requests->folium) (3.7)\n",
      "Requirement already satisfied: urllib3<3,>=1.21.1 in /Applications/anaconda3/lib/python3.12/site-packages (from requests->folium) (2.2.2)\n",
      "Requirement already satisfied: certifi>=2017.4.17 in /Applications/anaconda3/lib/python3.12/site-packages (from requests->folium) (2024.7.4)\n",
      "Note: you may need to restart the kernel to use updated packages.\n"
     ]
    }
   ],
   "source": [
    "pip install pandas numpy matplotlib folium plotly"
   ]
  },
  {
   "cell_type": "code",
   "execution_count": 6,
   "id": "224ecf81-367a-4eae-bd13-c23699e1f402",
   "metadata": {},
   "outputs": [],
   "source": [
    "import pandas as pd"
   ]
  },
  {
   "cell_type": "code",
   "execution_count": 7,
   "id": "7af0d040-5e5d-468a-aac3-a2b80fc403d4",
   "metadata": {},
   "outputs": [],
   "source": [
    "import os"
   ]
  },
  {
   "cell_type": "code",
   "execution_count": 8,
   "id": "dc4ded37-3bec-40bf-b497-a73d85286b52",
   "metadata": {},
   "outputs": [],
   "source": [
    "gtfs_path = \"/Users/kathypresto/Desktop/gtfs\""
   ]
  },
  {
   "cell_type": "code",
   "execution_count": 9,
   "id": "c40051e0-02d6-4a01-9f63-6d87f23a0662",
   "metadata": {},
   "outputs": [],
   "source": [
    "files = [\"agency.txt\", \"stops.txt\", \"routes.txt\", \"trips.txt\", \"stop_times.txt\", \"calendar.txt\"]"
   ]
  },
  {
   "cell_type": "code",
   "execution_count": 10,
   "id": "5cb3f1c7-06f7-48ca-b4a1-125013d36d95",
   "metadata": {},
   "outputs": [],
   "source": [
    "gtfs_data = {file: pd.read_csv(os.path.join(gtfs_path, file)) for file in files}"
   ]
  },
  {
   "cell_type": "code",
   "execution_count": 11,
   "id": "93c5a96f-f107-4e4d-9877-27e00bcdfcbd",
   "metadata": {},
   "outputs": [
    {
     "name": "stdout",
     "output_type": "stream",
     "text": [
      "--- agency.txt ---\n",
      "  agency_id           agency_name                      agency_url  \\\n",
      "0    TRIMET                TriMet             https://trimet.org/   \n",
      "1       PSC    Portland Streetcar  https://portlandstreetcar.org/   \n",
      "2      TRAM  Portland Aerial Tram        http://www.gobytram.com/   \n",
      "\n",
      "       agency_timezone agency_lang  agency_phone  \\\n",
      "0  America/Los_Angeles          en  503-238-RIDE   \n",
      "1  America/Los_Angeles          en  503-222-4200   \n",
      "2  America/Los_Angeles          en  503-494-8283   \n",
      "\n",
      "                                     agency_fare_url  \\\n",
      "0                          https://trimet.org/fares/   \n",
      "1  https://portlandstreetcar.org/fare-info/fare-info   \n",
      "2                       http://www.gobytram.com/fare   \n",
      "\n",
      "                 agency_email           bikes_policy_url  \n",
      "0  customerservice@trimet.org  https://trimet.org/bikes/  \n",
      "1  info@portlandstreetcar.org                        NaN  \n",
      "2            commute@ohsu.edu                        NaN  \n",
      "\n",
      "\n",
      "--- stops.txt ---\n",
      "  stop_id  stop_code          stop_name              tts_stop_name  \\\n",
      "0       2        2.0   A Ave & Chandler       ae avenue & chandler   \n",
      "1       3        3.0  A Ave & Second St  ae avenue & second street   \n",
      "2       4        4.0    A Ave & 10th St    ae avenue & 10th street   \n",
      "3       6        6.0     A Ave & 8th St     ae avenue & 8th street   \n",
      "4       7        7.0     A Ave & 8th St     ae avenue & 8th street   \n",
      "\n",
      "                                   stop_desc   stop_lat    stop_lon zone_id  \\\n",
      "0  Eastbound stop in Lake Oswego (Stop ID 2)  45.420609 -122.675671       B   \n",
      "1  Eastbound stop in Lake Oswego (Stop ID 3)  45.419388 -122.665197       B   \n",
      "2  Westbound stop in Lake Oswego (Stop ID 4)  45.420703 -122.675152       B   \n",
      "3  Eastbound stop in Lake Oswego (Stop ID 6)  45.420217 -122.673070       B   \n",
      "4  Westbound stop in Lake Oswego (Stop ID 7)  45.420411 -122.672680       B   \n",
      "\n",
      "                         stop_url  location_type parent_station  \\\n",
      "0  https://trimet.org/home/stop/2              0            NaN   \n",
      "1  https://trimet.org/home/stop/3              0            NaN   \n",
      "2  https://trimet.org/home/stop/4              0            NaN   \n",
      "3  https://trimet.org/home/stop/6              0            NaN   \n",
      "4  https://trimet.org/home/stop/7              0            NaN   \n",
      "\n",
      "   wheelchair_boarding  platform_code direction  position  \n",
      "0                    1            NaN      East  Nearside  \n",
      "1                    1            NaN      East   Farside  \n",
      "2                    1            NaN      West  Nearside  \n",
      "3                    1            NaN      East  Nearside  \n",
      "4                    1            NaN      West  Nearside  \n",
      "\n",
      "\n",
      "--- routes.txt ---\n",
      "  route_id agency_id route_short_name             route_long_name  route_type  \\\n",
      "0        1    TRIMET                1                     Vermont           3   \n",
      "1        2    TRIMET              FX2                    Division           3   \n",
      "2        4    TRIMET                4                   Fessenden           3   \n",
      "3        6    TRIMET                6  Martin Luther King Jr Blvd           3   \n",
      "4        8    TRIMET                8        Jackson Park/NE 15th           3   \n",
      "\n",
      "                               route_url route_color route_text_color  \\\n",
      "0  https://trimet.org/schedules/r001.htm      084C8D           FFFFFF   \n",
      "1  https://trimet.org/schedules/r002.htm      61A744           FFFFFF   \n",
      "2  https://trimet.org/schedules/r004.htm      084C8D           FFFFFF   \n",
      "3  https://trimet.org/schedules/r006.htm      084C8D           FFFFFF   \n",
      "4  https://trimet.org/schedules/r008.htm      084C8D           FFFFFF   \n",
      "\n",
      "   route_sort_order network_id  \n",
      "0               400     TRIMET  \n",
      "1               500     TRIMET  \n",
      "2               600     TRIMET  \n",
      "3               800     TRIMET  \n",
      "4              1000     TRIMET  \n",
      "\n",
      "\n",
      "--- trips.txt ---\n",
      "  route_id service_id   trip_id  trip_headsign  trip_short_name  direction_id  \\\n",
      "0        1      W.682  14152464            NaN              NaN             0   \n",
      "1        1      W.682  14152465            NaN              NaN             0   \n",
      "2        1      W.682  14152466            NaN              NaN             1   \n",
      "3        1      W.682  14152467            NaN              NaN             1   \n",
      "4        1      W.686  14184864            NaN              NaN             0   \n",
      "\n",
      "   block_id  shape_id  trip_type  wheelchair_accessible  bikes_allowed  \n",
      "0      7680    582117        NaN                      1              1  \n",
      "1      5779    582116        NaN                      1              1  \n",
      "2      7683    582118        NaN                      1              1  \n",
      "3      3307    582118        NaN                      1              1  \n",
      "4      7680    583017        NaN                      1              1  \n",
      "\n",
      "\n",
      "--- stop_times.txt ---\n",
      "    trip_id arrival_time departure_time  stop_id  stop_sequence stop_headsign  \\\n",
      "0  14218804     05:13:00       05:13:00     1026              1   M L King Jr   \n",
      "1  14218804     05:13:59       05:13:59    13748              2   M L King Jr   \n",
      "2  14218804     05:17:43       05:17:43    12918              3   M L King Jr   \n",
      "3  14218804     05:19:06       05:19:06    14586              4   M L King Jr   \n",
      "4  14218804     05:19:33       05:19:33    14587              5   M L King Jr   \n",
      "\n",
      "   pickup_type  drop_off_type  shape_dist_traveled  timepoint  \n",
      "0            0              1                  0.0          1  \n",
      "1            0              0               2169.7          0  \n",
      "2            0              0              10473.1          0  \n",
      "3            0              0              13521.8          0  \n",
      "4            0              0              14534.1          0  \n",
      "\n",
      "\n",
      "--- calendar.txt ---\n",
      "  service_id  monday  tuesday  wednesday  thursday  friday  saturday  sunday  \\\n",
      "0      7.682       1        1          1         1       1         0       0   \n",
      "1      7.686       1        1          1         1       1         0       0   \n",
      "2      7.687       1        1          1         1       1         0       0   \n",
      "3      D.682       1        1          1         1       1         0       0   \n",
      "4      D.686       1        1          1         1       1         0       0   \n",
      "\n",
      "   start_date  end_date  \n",
      "0    20241202  20241220  \n",
      "1    20241223  20250228  \n",
      "2    20250303  20250530  \n",
      "3    20241202  20241220  \n",
      "4    20241223  20250228  \n",
      "\n",
      "\n"
     ]
    }
   ],
   "source": [
    "for file, df in gtfs_data.items():\n",
    "    print(f\"--- {file} ---\")\n",
    "    print(df.head())\n",
    "    print(\"\\n\")"
   ]
  },
  {
   "cell_type": "code",
   "execution_count": 12,
   "id": "67651d74-214c-4a06-baff-d5beacc97077",
   "metadata": {},
   "outputs": [
    {
     "name": "stdout",
     "output_type": "stream",
     "text": [
      "    trip_id arrival_time departure_time  stop_id  stop_sequence stop_headsign  \\\n",
      "0  14218804     05:13:00       05:13:00     1026              1   M L King Jr   \n",
      "1  14218804     05:13:59       05:13:59    13748              2   M L King Jr   \n",
      "2  14218804     05:17:43       05:17:43    12918              3   M L King Jr   \n",
      "3  14218804     05:19:06       05:19:06    14586              4   M L King Jr   \n",
      "4  14218804     05:19:33       05:19:33    14587              5   M L King Jr   \n",
      "\n",
      "   pickup_type  drop_off_type  shape_dist_traveled  timepoint  \n",
      "0            0              1                  0.0          1  \n",
      "1            0              0               2169.7          0  \n",
      "2            0              0              10473.1          0  \n",
      "3            0              0              13521.8          0  \n",
      "4            0              0              14534.1          0  \n"
     ]
    }
   ],
   "source": [
    "stop_times = gtfs_data[\"stop_times.txt\"]\n",
    "print (stop_times.head())"
   ]
  },
  {
   "cell_type": "code",
   "execution_count": 13,
   "id": "795b322c-8e87-491b-b4ba-94f452e27192",
   "metadata": {},
   "outputs": [],
   "source": [
    "stop_times['arrival_time'] = pd.to_datetime(stop_times['arrival_time'], format='%H:%M:%S', errors='coerce')\n",
    "stop_times['departure_time'] = pd.to_datetime(stop_times['departure_time'], format='%H:%M:%S', errors='coerce')"
   ]
  },
  {
   "cell_type": "code",
   "execution_count": 14,
   "id": "2d3ae2d4-f962-4bc6-beee-d2c563e6a615",
   "metadata": {},
   "outputs": [
    {
     "name": "stdout",
     "output_type": "stream",
     "text": [
      "  route_id agency_id route_short_name             route_long_name  route_type  \\\n",
      "0        1    TRIMET                1                     Vermont           3   \n",
      "1        2    TRIMET              FX2                    Division           3   \n",
      "2        4    TRIMET                4                   Fessenden           3   \n",
      "3        6    TRIMET                6  Martin Luther King Jr Blvd           3   \n",
      "4        8    TRIMET                8        Jackson Park/NE 15th           3   \n",
      "\n",
      "                               route_url route_color route_text_color  \\\n",
      "0  https://trimet.org/schedules/r001.htm      084C8D           FFFFFF   \n",
      "1  https://trimet.org/schedules/r002.htm      61A744           FFFFFF   \n",
      "2  https://trimet.org/schedules/r004.htm      084C8D           FFFFFF   \n",
      "3  https://trimet.org/schedules/r006.htm      084C8D           FFFFFF   \n",
      "4  https://trimet.org/schedules/r008.htm      084C8D           FFFFFF   \n",
      "\n",
      "   route_sort_order network_id  \n",
      "0               400     TRIMET  \n",
      "1               500     TRIMET  \n",
      "2               600     TRIMET  \n",
      "3               800     TRIMET  \n",
      "4              1000     TRIMET  \n",
      "  route_id service_id   trip_id  trip_headsign  trip_short_name  direction_id  \\\n",
      "0        1      W.682  14152464            NaN              NaN             0   \n",
      "1        1      W.682  14152465            NaN              NaN             0   \n",
      "2        1      W.682  14152466            NaN              NaN             1   \n",
      "3        1      W.682  14152467            NaN              NaN             1   \n",
      "4        1      W.686  14184864            NaN              NaN             0   \n",
      "\n",
      "   block_id  shape_id  trip_type  wheelchair_accessible  bikes_allowed  \n",
      "0      7680    582117        NaN                      1              1  \n",
      "1      5779    582116        NaN                      1              1  \n",
      "2      7683    582118        NaN                      1              1  \n",
      "3      3307    582118        NaN                      1              1  \n",
      "4      7680    583017        NaN                      1              1  \n"
     ]
    }
   ],
   "source": [
    "routes = gtfs_data[\"routes.txt\"]\n",
    "trips = gtfs_data[\"trips.txt\"]\n",
    "\n",
    "print(routes.head())\n",
    "print(trips.head())"
   ]
  },
  {
   "cell_type": "code",
   "execution_count": 15,
   "id": "cf55d633-501b-4abd-ba1f-ed53150f3d65",
   "metadata": {},
   "outputs": [
    {
     "name": "stdout",
     "output_type": "stream",
     "text": [
      "  stop_id  stop_code          stop_name              tts_stop_name  \\\n",
      "0       2        2.0   A Ave & Chandler       ae avenue & chandler   \n",
      "1       3        3.0  A Ave & Second St  ae avenue & second street   \n",
      "2       4        4.0    A Ave & 10th St    ae avenue & 10th street   \n",
      "3       6        6.0     A Ave & 8th St     ae avenue & 8th street   \n",
      "4       7        7.0     A Ave & 8th St     ae avenue & 8th street   \n",
      "\n",
      "                                   stop_desc   stop_lat    stop_lon zone_id  \\\n",
      "0  Eastbound stop in Lake Oswego (Stop ID 2)  45.420609 -122.675671       B   \n",
      "1  Eastbound stop in Lake Oswego (Stop ID 3)  45.419388 -122.665197       B   \n",
      "2  Westbound stop in Lake Oswego (Stop ID 4)  45.420703 -122.675152       B   \n",
      "3  Eastbound stop in Lake Oswego (Stop ID 6)  45.420217 -122.673070       B   \n",
      "4  Westbound stop in Lake Oswego (Stop ID 7)  45.420411 -122.672680       B   \n",
      "\n",
      "                         stop_url  location_type parent_station  \\\n",
      "0  https://trimet.org/home/stop/2              0            NaN   \n",
      "1  https://trimet.org/home/stop/3              0            NaN   \n",
      "2  https://trimet.org/home/stop/4              0            NaN   \n",
      "3  https://trimet.org/home/stop/6              0            NaN   \n",
      "4  https://trimet.org/home/stop/7              0            NaN   \n",
      "\n",
      "   wheelchair_boarding  platform_code direction  position  \n",
      "0                    1            NaN      East  Nearside  \n",
      "1                    1            NaN      East   Farside  \n",
      "2                    1            NaN      West  Nearside  \n",
      "3                    1            NaN      East  Nearside  \n",
      "4                    1            NaN      West  Nearside  \n"
     ]
    }
   ],
   "source": [
    "# Load stops.txt\n",
    "stops = gtfs_data[\"stops.txt\"]\n",
    "\n",
    "# Display the first few rows\n",
    "print(stops.head())\n"
   ]
  },
  {
   "cell_type": "code",
   "execution_count": 16,
   "id": "d0ed4086-ecdf-4533-bf22-478393d66e96",
   "metadata": {},
   "outputs": [
    {
     "name": "stdout",
     "output_type": "stream",
     "text": [
      "Index(['trip_id', 'arrival_time', 'departure_time', 'stop_id', 'stop_sequence',\n",
      "       'stop_headsign', 'pickup_type', 'drop_off_type', 'shape_dist_traveled',\n",
      "       'timepoint'],\n",
      "      dtype='object')\n",
      "Index(['stop_id', 'stop_code', 'stop_name', 'tts_stop_name', 'stop_desc',\n",
      "       'stop_lat', 'stop_lon', 'zone_id', 'stop_url', 'location_type',\n",
      "       'parent_station', 'wheelchair_boarding', 'platform_code', 'direction',\n",
      "       'position'],\n",
      "      dtype='object')\n"
     ]
    }
   ],
   "source": [
    "print(stop_times.columns)\n",
    "print(stops.columns)\n"
   ]
  },
  {
   "cell_type": "code",
   "execution_count": 17,
   "id": "8ae105b2-30c5-42f2-8fc1-84bd6a5aef40",
   "metadata": {},
   "outputs": [
    {
     "name": "stdout",
     "output_type": "stream",
     "text": [
      "    trip_id        arrival_time      departure_time stop_id  stop_sequence  \\\n",
      "0  14218804 1900-01-01 05:13:00 1900-01-01 05:13:00    1026              1   \n",
      "1  14218804 1900-01-01 05:13:59 1900-01-01 05:13:59   13748              2   \n",
      "2  14218804 1900-01-01 05:17:43 1900-01-01 05:17:43   12918              3   \n",
      "3  14218804 1900-01-01 05:19:06 1900-01-01 05:19:06   14586              4   \n",
      "4  14218804 1900-01-01 05:19:33 1900-01-01 05:19:33   14587              5   \n",
      "\n",
      "  stop_headsign  pickup_type  drop_off_type  shape_dist_traveled  timepoint  \\\n",
      "0   M L King Jr            0              1                  0.0          1   \n",
      "1   M L King Jr            0              0               2169.7          0   \n",
      "2   M L King Jr            0              0              10473.1          0   \n",
      "3   M L King Jr            0              0              13521.8          0   \n",
      "4   M L King Jr            0              0              14534.1          0   \n",
      "\n",
      "   ...   stop_lat    stop_lon  zone_id                            stop_url  \\\n",
      "0  ...  45.610836 -122.681390        B   https://trimet.org/home/stop/1026   \n",
      "1  ...  45.612309 -122.684608        B  https://trimet.org/home/stop/13748   \n",
      "2  ...  45.596301 -122.685445        B  https://trimet.org/home/stop/12918   \n",
      "3  ...  45.589483 -122.683488        B  https://trimet.org/home/stop/14586   \n",
      "4  ...  45.589467 -122.679532        B  https://trimet.org/home/stop/14587   \n",
      "\n",
      "   location_type  parent_station  wheelchair_boarding  platform_code  \\\n",
      "0              0             NaN                    1            NaN   \n",
      "1              0             NaN                    1            NaN   \n",
      "2              0             NaN                    1            NaN   \n",
      "3              0             NaN                    1            NaN   \n",
      "4              0             NaN                    1            NaN   \n",
      "\n",
      "   direction  position  \n",
      "0      South  Opposite  \n",
      "1      North  Nearside  \n",
      "2      South        At  \n",
      "3       East  Opposite  \n",
      "4       East  Opposite  \n",
      "\n",
      "[5 rows x 34 columns]\n"
     ]
    }
   ],
   "source": [
    "# Convert stop_id in both DataFrames to string\n",
    "stop_times['stop_id'] = stop_times['stop_id'].astype(str)\n",
    "stops['stop_id'] = stops['stop_id'].astype(str)\n",
    "\n",
    "# Merge stop_times with trips on trip_id\n",
    "stop_times_trips = stop_times.merge(trips, on=\"trip_id\", how=\"inner\")\n",
    "\n",
    "# Merge with stops on stop_id\n",
    "otp_data = stop_times_trips.merge(stops, on=\"stop_id\", how=\"inner\")\n",
    "\n",
    "# Display the merged DataFrame\n",
    "print(otp_data.head())\n"
   ]
  },
  {
   "cell_type": "code",
   "execution_count": 18,
   "id": "d69df1ad-d1de-4f27-a54a-7c79ecbc8f0b",
   "metadata": {},
   "outputs": [],
   "source": [
    "import numpy as np"
   ]
  },
  {
   "cell_type": "code",
   "execution_count": 22,
   "id": "cf37888c-8903-4ce8-b9aa-d9866226cb9d",
   "metadata": {},
   "outputs": [
    {
     "name": "stdout",
     "output_type": "stream",
     "text": [
      "    trip_id        arrival_time      departure_time stop_id  stop_sequence  \\\n",
      "0  14218804 1900-01-01 05:13:00 1900-01-01 05:13:00    1026              1   \n",
      "1  14218804 1900-01-01 05:13:59 1900-01-01 05:13:59   13748              2   \n",
      "2  14218804 1900-01-01 05:17:43 1900-01-01 05:17:43   12918              3   \n",
      "3  14218804 1900-01-01 05:19:06 1900-01-01 05:19:06   14586              4   \n",
      "4  14218804 1900-01-01 05:19:33 1900-01-01 05:19:33   14587              5   \n",
      "\n",
      "  stop_headsign  pickup_type  drop_off_type  shape_dist_traveled  timepoint  \\\n",
      "0   M L King Jr            0              1                  0.0          1   \n",
      "1   M L King Jr            0              0               2169.7          0   \n",
      "2   M L King Jr            0              0              10473.1          0   \n",
      "3   M L King Jr            0              0              13521.8          0   \n",
      "4   M L King Jr            0              0              14534.1          0   \n",
      "\n",
      "   ... location_type parent_station  wheelchair_boarding  platform_code  \\\n",
      "0  ...             0            NaN                    1            NaN   \n",
      "1  ...             0            NaN                    1            NaN   \n",
      "2  ...             0            NaN                    1            NaN   \n",
      "3  ...             0            NaN                    1            NaN   \n",
      "4  ...             0            NaN                    1            NaN   \n",
      "\n",
      "   direction  position  actual_arrival_time  delan_seconds  delay_seconds  \\\n",
      "0      South  Opposite  1900-01-01 05:16:17          228.0          197.0   \n",
      "1      North  Nearside  1900-01-01 05:14:42          111.0           43.0   \n",
      "2      South        At  1900-01-01 05:19:41          -34.0          118.0   \n",
      "3       East  Opposite  1900-01-01 05:19:53          142.0           47.0   \n",
      "4       East  Opposite  1900-01-01 05:23:03          136.0          210.0   \n",
      "\n",
      "   on_time  \n",
      "0     True  \n",
      "1     True  \n",
      "2     True  \n",
      "3     True  \n",
      "4     True  \n",
      "\n",
      "[5 rows x 38 columns]\n"
     ]
    }
   ],
   "source": [
    "# simulate actual arrial times with delay (in seconds)\n",
    "otp_data['actual_arrival_time'] = otp_data['arrival_time'] + pd.to_timedelta(np.random.randint(-60, 300, size=len(otp_data)), unit='s')\n",
    "\n",
    "# calculate delay\n",
    "otp_data['delay_seconds'] = (otp_data['actual_arrival_time'] - otp_data['arrival_time']).dt.total_seconds()\n",
    "\n",
    "# categorize as 'on-time' or 'late'\n",
    "otp_data['on_time'] = otp_data['delay_seconds'].between(-60, 300)\n",
    "print(otp_data.head())"
   ]
  },
  {
   "cell_type": "code",
   "execution_count": 26,
   "id": "f418cec8-3171-4442-8380-bd9da1041bbd",
   "metadata": {},
   "outputs": [],
   "source": [
    "import matplotlib.pyplot as plt"
   ]
  },
  {
   "cell_type": "code",
   "execution_count": 30,
   "id": "d8aaaffc-73f3-4669-80d4-1dfe2a712c13",
   "metadata": {},
   "outputs": [
    {
     "data": {
      "image/png": "[encoded data removed]",
      "text/plain": [
       "<Figure size 600x400 with 1 Axes>"
      ]
     },
     "metadata": {},
     "output_type": "display_data"
    }
   ],
   "source": [
    "# calculate OTP percentage\n",
    "otp_percentage = otp_data['on_time'].mean() * 100\n",
    "\n",
    "# plot\n",
    "plt.figure(figsize=(6,4))\n",
    "plt.bar(['On-Time', 'Late'], [otp_percentage, 100 - otp_percentage], color=['green', 'red'])\n",
    "plt.title(\"On-Time Performance\")\n",
    "plt.ylabel(\"Percentage\")\n",
    "plt.show()"
   ]
  },
  {
   "cell_type": "code",
   "execution_count": 32,
   "id": "14188f54-4e8f-42ef-9a23-687355f4d6de",
   "metadata": {},
   "outputs": [
    {
     "name": "stdout",
     "output_type": "stream",
     "text": [
      "     route_id stop_id   avg_delay  on_time_percentage\n",
      "429        12   14411  142.208333            0.500000\n",
      "549        12    8212  130.416667            0.500000\n",
      "1463      190    7606  148.000000            0.500000\n",
      "1464      190    7608  230.000000            0.500000\n",
      "1465      190    7618  125.000000            0.500000\n",
      "...       ...     ...         ...                 ...\n",
      "2718      293    7787         NaN            0.000000\n",
      "2719      293    9299         NaN            0.000000\n",
      "2720      293    9303         NaN            0.000000\n",
      "3420       35   13816   92.777778            0.666667\n",
      "7943        9    8199  108.841584            0.737226\n",
      "\n",
      "[207 rows x 4 columns]\n"
     ]
    }
   ],
   "source": [
    "# Group by route and stop to calculate average delays\n",
    "patterns = otp_data.groupby(['route_id', 'stop_id']).agg(\n",
    "    avg_delay=('delay_seconds', 'mean'),\n",
    "    on_time_percentage=('on_time', 'mean')\n",
    ").reset_index()\n",
    "\n",
    "# Identify poorly performing routes or stops\n",
    "poor_performance = patterns[patterns['on_time_percentage'] < 0.8]\n",
    "print(poor_performance)\n"
   ]
  },
  {
   "cell_type": "code",
   "execution_count": null,
   "id": "ac3e2f5c-64b7-4da1-a9a9-39e130ed537d",
   "metadata": {},
   "outputs": [],
   "source": []
  }
 ],
 "metadata": {
  "kernelspec": {
   "display_name": "Python 3 (ipykernel)",
   "language": "python",
   "name": "python3"
  },
  "language_info": {
   "codemirror_mode": {
    "name": "ipython",
    "version": 3
   },
   "file_extension": ".py",
   "mimetype": "text/x-python",
   "name": "python",
   "nbconvert_exporter": "python",
   "pygments_lexer": "ipython3",
   "version": "3.12.4"
  }
 },
 "nbformat": 4,
 "nbformat_minor": 5
}
